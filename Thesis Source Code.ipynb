{
 "cells": [
  {
   "cell_type": "code",
   "execution_count": null,
   "id": "e1a4fa8c",
   "metadata": {},
   "outputs": [],
   "source": [
    "#Importing necessary libraries\n",
    "from sklearn.svm import SVR, NuSVR\n",
    "from sklearn.neural_network import MLPRegressor\n",
    "from lightgbm import LGBMRegressor\n",
    "from catboost import CatBoostRegressor\n",
    "from sklearn.metrics import mean_absolute_error, mean_squared_error, r2_score\n",
    "from sklearn.pipeline import make_pipeline\n",
    "from sklearn.preprocessing import StandardScaler\n",
    "from sklearn.model_selection import train_test_split\n",
    "from sklearn.inspection import permutation_importance\n",
    "import warnings\n",
    "import pandas as pd\n",
    "import numpy as np\n",
    "import matplotlib.pyplot as plt\n",
    "import joblib\n",
    "from sklearn.exceptions import ConvergenceWarning,DataConversionWarning\n",
    "warnings.filterwarnings(\"ignore\", category=ConvergenceWarning)\n",
    "warnings.filterwarnings(\"ignore\", category=RuntimeWarning)\n",
    "warnings.filterwarnings(\"ignore\", category=FutureWarning)\n",
    "warnings.filterwarnings(\"ignore\", category=DataConversionWarning)"
   ]
  },
  {
   "cell_type": "code",
   "execution_count": null,
   "id": "7c2665bb",
   "metadata": {},
   "outputs": [],
   "source": [
    "#load solar irradiance dataset\n",
    "data = pd.read_csv('london_weather.csv')"
   ]
  },
  {
   "cell_type": "code",
   "execution_count": null,
   "id": "ff26ac67",
   "metadata": {
    "scrolled": true
   },
   "outputs": [],
   "source": [
    "#Changing the date column from integer to datetime\n",
    "data['date'] = pd.to_datetime(data['date'], format='%Y%m%d')\n",
    "data"
   ]
  },
  {
   "cell_type": "code",
   "execution_count": null,
   "id": "23dece78",
   "metadata": {},
   "outputs": [],
   "source": [
    "#statistical description of dataset \n",
    "data.describe()"
   ]
  },
  {
   "cell_type": "code",
   "execution_count": null,
   "id": "d52ce713",
   "metadata": {},
   "outputs": [],
   "source": [
    "# Plot solar irradiance distribution \n",
    "plt.figure(figsize=(13,8))\n",
    "plt.scatter(data['date'], data['global_radiation'])\n",
    "plt.xlabel('Date')\n",
    "plt.ylabel('Solar Irradiance W/m2')\n",
    "plt.title('Yearly Trends for Solar Irradiance')\n",
    "plt.show()"
   ]
  },
  {
   "cell_type": "code",
   "execution_count": null,
   "id": "fef2e895",
   "metadata": {},
   "outputs": [],
   "source": [
    "# Diaplaying irradiance levels in 2020 to identify trends and seasonanlity\n",
    "plt.figure(figsize=(10,8))\n",
    "year = 2020  # Specify the year you want to isolate\n",
    "filtered_df = data[data['date'].dt.year == year]\n",
    "\n",
    "plt.plot(filtered_df['date'], filtered_df['global_radiation'])\n",
    "plt.xlabel('Date')\n",
    "plt.ylabel('Solar Irradiance W/m2')\n",
    "plt.title('Trends for {}'.format(year))\n",
    "plt.show()"
   ]
  },
  {
   "cell_type": "code",
   "execution_count": null,
   "id": "74e7eddf",
   "metadata": {},
   "outputs": [],
   "source": [
    "# Check for missing values\n",
    "missing_values_count = data.isnull().sum()\n",
    "total_rows = data.shape[0]\n",
    "# Check for missing values percentage \n",
    "missing_values_percentage = (missing_values_count / total_rows) * 100"
   ]
  },
  {
   "cell_type": "code",
   "execution_count": null,
   "id": "33d92a50",
   "metadata": {},
   "outputs": [],
   "source": [
    "# Put missing values sum and percentage in dataframe \n",
    "output_df = pd.DataFrame({\n",
    "    'Missing Values': missing_values_count,\n",
    "    'Percentage of Missing Values': missing_values_percentage\n",
    "})\n",
    "\n",
    "output_df"
   ]
  },
  {
   "cell_type": "code",
   "execution_count": null,
   "id": "f4aa8695",
   "metadata": {},
   "outputs": [],
   "source": [
    "# Dropping snow depth column because it has little effect on irradiance and over a 1000 missing values\n",
    "df = data.drop(\"snow_depth\", axis=1)\n",
    "\n",
    "#Filling the remaining empty columns with the mean of every column.\n",
    "column_means = df.mean()\n",
    "df = df.fillna(column_means)"
   ]
  },
  {
   "cell_type": "code",
   "execution_count": null,
   "id": "f366fa88",
   "metadata": {},
   "outputs": [],
   "source": [
    "# Input feature selection for model training\n",
    "features = ['cloud_cover','sunshine','max_temp',\n",
    "       'mean_temp','min_temp','precipitation','pressure']"
   ]
  },
  {
   "cell_type": "code",
   "execution_count": null,
   "id": "a5e34399",
   "metadata": {},
   "outputs": [],
   "source": [
    "# Target variable selection\n",
    "target = ['global_radiation']"
   ]
  },
  {
   "cell_type": "code",
   "execution_count": null,
   "id": "538ba4dc",
   "metadata": {},
   "outputs": [],
   "source": [
    "# Extract features into dataframes\n",
    "X = df[features]\n",
    "y = df[target]"
   ]
  },
  {
   "cell_type": "code",
   "execution_count": null,
   "id": "44b85f74",
   "metadata": {},
   "outputs": [],
   "source": [
    "# Standardizing the dataset before splitting and training\n",
    "scaler = StandardScaler()\n",
    "X = scaler.fit_transform(X)\n",
    "y = scaler.fit_transform(y)"
   ]
  },
  {
   "cell_type": "code",
   "execution_count": null,
   "id": "e06d8ce3",
   "metadata": {},
   "outputs": [],
   "source": [
    "# splitting the data into training and training set and test set\n",
    "X_train, X_test, y_train, y_test = train_test_split(X, y, test_size=0.25, random_state=324) # Set test size to 25% of dataset"
   ]
  },
  {
   "cell_type": "code",
   "execution_count": null,
   "id": "3bdd2077",
   "metadata": {},
   "outputs": [],
   "source": [
    "#Creating a function for evaluating the model\n",
    "def evaluate_model(y_true, y_pred):\n",
    "    # Calculate MAE, MSE, RMSE, and R2\n",
    "    model_mae = mean_absolute_error(y_true, y_pred)\n",
    "    model_mse = mean_squared_error(y_true, y_pred)\n",
    "    model_rmse = np.sqrt(model_mse)\n",
    "    model_r2 = r2_score(y_true, y_pred)\n",
    "\n",
    "    return model_mae, model_mse, model_rmse, model_r2\n",
    "\n"
   ]
  },
  {
   "cell_type": "code",
   "execution_count": null,
   "id": "836c6ea0",
   "metadata": {},
   "outputs": [],
   "source": [
    "# Putting all models into one dictionary\n",
    "models = {\n",
    "    \"SVR\": SVR(),\n",
    "    \"NuSVR\": NuSVR(),\n",
    "    \"MLP Regressor\": MLPRegressor(),\n",
    "    \"LGBM Regressor\": LGBMRegressor(),\n",
    "    \"CatBoost Regressor\" : CatBoostRegressor(iterations=1000, learning_rate=0.01, depth=6, l2_leaf_reg=1,verbose=False)    \n",
    "}\n",
    "\n",
    "\n",
    "#Creating and empty list for models, R2, RMSE, MAE, MSE\n",
    "model_list = []\n",
    "r2_list = []\n",
    "rmse_list = []\n",
    "mae_list = []\n",
    "mse_list = []\n",
    "\n",
    "# Creating a for loop to assign evaluation scorec into these empty lists\n",
    "for model_name, model in models.items():\n",
    "    model_r2_scores = []\n",
    "    model_rmse_scores = []\n",
    "    model_mae_scores = []\n",
    "    model_mse_scores = []\n",
    "  \n",
    "\n",
    "    model.fit(X_train, y_train) # Train model\n",
    "\n",
    "    # Make predictions\n",
    "    y_test_pred = model.predict(X_test)\n",
    "\n",
    "\n",
    "\n",
    "    # Evaluate Test dataset\n",
    "    model_test_mae,model_test_mse, model_test_rmse, model_test_r2 = evaluate_model(y_test, y_test_pred)\n",
    "    # Append evaluation scores into empty lists above\n",
    "    model_r2_scores.append(model_test_r2)\n",
    "    model_rmse_scores.append(model_test_rmse)\n",
    "    model_mae_scores.append(model_test_mae)\n",
    "    model_mse_scores.append(model_test_mse)\n",
    "\n",
    "    # Append model name into model_list\n",
    "    model_list.append(model_name)\n",
    "    \n",
    "\n",
    "    r2_list.append(model_r2_scores)\n",
    "    rmse_list.append(model_rmse_scores)\n",
    "    mae_list.append(model_mae_scores)\n",
    "    mse_list.append(model_mse_scores)\n",
    "\n"
   ]
  },
  {
   "cell_type": "code",
   "execution_count": null,
   "id": "f5e7f737",
   "metadata": {},
   "outputs": [],
   "source": [
    "# Create a dataframe for model evaluation scores\n",
    "df=pd.DataFrame({'Model Name': model_list, 'R2 Scores': r2_list,'MSE Scores': mse_list, 'RMSE Scores': rmse_list, 'MAE Scores': mae_list})\n",
    "df['RMSE Scores'] = df['RMSE Scores'].apply(lambda x: x[0])\n",
    "df['MSE Scores'] = df['MSE Scores'].apply(lambda x: x[0])\n",
    "df['R2 Scores'] = df['R2 Scores'].apply(lambda x: x[0])\n",
    "df['MAE Scores'] = df['MAE Scores'].apply(lambda x: x[0])\n",
    "\n",
    "\n",
    "df_MSE2 = df.sort_values(by=[\"MAE Scores\"], ascending=True)\n",
    "df_R22 = df.sort_values(by=[\"R2 Scores\"], ascending=False)\n",
    "df_RMSE2 = df.sort_values(by=[\"RMSE Scores\"], ascending=True)\n",
    "df_MAE2 = df.sort_values(by=[\"MAE Scores\"], ascending=True)"
   ]
  },
  {
   "cell_type": "code",
   "execution_count": null,
   "id": "91202ae7",
   "metadata": {},
   "outputs": [],
   "source": [
    "df_MSE2"
   ]
  },
  {
   "cell_type": "code",
   "execution_count": null,
   "id": "c786955e",
   "metadata": {},
   "outputs": [],
   "source": [
    "# Variable names\n",
    "variable_names = ['cloud_cover','sunshine','max_temp','mean_temp','min_temp','precipitation','pressure']\n",
    "target_variable = ['global_radiation']\n",
    "\n",
    "# Store coefficients in a DataFrame\n",
    "coefficients_df = pd.DataFrame(columns=[\"Model\", \"Variable\", \"Coefficient\"])"
   ]
  },
  {
   "cell_type": "code",
   "execution_count": null,
   "id": "19a4b1fe",
   "metadata": {},
   "outputs": [],
   "source": [
    "# List to store coefficient information\n",
    "coefficients_list = []\n",
    "\n",
    "# Generate separate plots for each model\n",
    "for model_name, model in models.items():\n",
    "    model.fit(X, y)\n",
    "    \n",
    "    if hasattr(model, 'coef_'):\n",
    "        coef = model.coef_\n",
    "    elif hasattr(model, 'feature_importances_'):\n",
    "        coef = model.feature_importances_\n",
    "    else:\n",
    "        continue\n",
    "    \n",
    "    # Store coefficients in the list\n",
    "    for i, c in enumerate(coef):\n",
    "        coefficients_list.append({\"Model\": model_name, \"Variable\": variable_names[i], \"Coefficient\": c})\n",
    "    \n",
    "    # Generate coefficient plot\n",
    "    fig, ax = plt.subplots(figsize=(8, 6))\n",
    "    ax.bar(range(len(coef)), coef)\n",
    "    ax.set_title(f\"{model_name} Coefficients\")\n",
    "    ax.set_xlabel(\"Variables\")\n",
    "    ax.set_ylabel(\"Coefficient Value\")\n",
    "    ax.set_xticks(range(len(coef)))\n",
    "    ax.set_xticklabels(variable_names)\n",
    "    plt.tight_layout()\n",
    "    plt.show()\n"
   ]
  },
  {
   "cell_type": "code",
   "execution_count": null,
   "id": "d464728c",
   "metadata": {},
   "outputs": [],
   "source": [
    "\n",
    "\n",
    "# Select a range of data points for the plot (e.g., from 50 to 100)\n",
    "data_range = slice(50, 100)\n",
    "\n",
    "# Plot the true line and predicted line for each model\n",
    "for model_name, model in models.items():\n",
    "    # Make predictions using the model\n",
    "    y_test_pred = model.predict(X_test)\n",
    "    \n",
    "    # Create a new plot for each model\n",
    "    plt.figure(figsize=(8, 6))\n",
    "    \n",
    "    # Plot the true line in blue\n",
    "    plt.plot(y_test[data_range], color='blue', label='True')\n",
    "    \n",
    "    # Plot the predicted line in a different color\n",
    "    plt.plot(y_test_pred[data_range], color='red', linestyle='dashed', label='Predicted')\n",
    "    \n",
    "    \n",
    "    plt.xlabel('Data Points')\n",
    "    plt.ylabel('Solar Irradiance W/m2')\n",
    "    plt.title(f'{model_name} True vs. Predicted')\n",
    "    plt.legend()\n",
    "    \n",
    "    # Display the plot for the current model\n",
    "    plt.show()\n",
    "\n"
   ]
  },
  {
   "cell_type": "code",
   "execution_count": null,
   "id": "e52a2d0e",
   "metadata": {},
   "outputs": [],
   "source": []
  }
 ],
 "metadata": {
  "kernelspec": {
   "display_name": "Python 3 (ipykernel)",
   "language": "python",
   "name": "python3"
  },
  "language_info": {
   "codemirror_mode": {
    "name": "ipython",
    "version": 3
   },
   "file_extension": ".py",
   "mimetype": "text/x-python",
   "name": "python",
   "nbconvert_exporter": "python",
   "pygments_lexer": "ipython3",
   "version": "3.10.12"
  }
 },
 "nbformat": 4,
 "nbformat_minor": 5
}
